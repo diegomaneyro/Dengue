{
 "cells": [
  {
   "attachments": {},
   "cell_type": "markdown",
   "metadata": {},
   "source": [
    "$$ETL$$"
   ]
  },
  {
   "attachments": {},
   "cell_type": "markdown",
   "metadata": {},
   "source": [
    "Descarga y transformación de los datos "
   ]
  },
  {
   "cell_type": "code",
   "execution_count": 74,
   "metadata": {},
   "outputs": [],
   "source": [
    "# importar librerias\n",
    "import pandas as pd\n",
    "import numpy as np\n",
    "import matplotlib.pyplot as plt\n",
    "import seaborn as sns\n",
    "import requests"
   ]
  },
  {
   "cell_type": "code",
   "execution_count": 75,
   "metadata": {},
   "outputs": [],
   "source": [
    "import pandas as pd\n",
    "\n",
    "# Leer el archivo CSV utilizando la ruta completa\n",
    "df = pd.read_csv('dengue-2022.csv', encoding='latin-1', sep=';')\n",
    "\n"
   ]
  },
  {
   "attachments": {},
   "cell_type": "markdown",
   "metadata": {},
   "source": [
    "visualizar datos en un dataframe"
   ]
  },
  {
   "cell_type": "code",
   "execution_count": 76,
   "metadata": {},
   "outputs": [
    {
     "data": {
      "text/html": [
       "<div>\n",
       "<style scoped>\n",
       "    .dataframe tbody tr th:only-of-type {\n",
       "        vertical-align: middle;\n",
       "    }\n",
       "\n",
       "    .dataframe tbody tr th {\n",
       "        vertical-align: top;\n",
       "    }\n",
       "\n",
       "    .dataframe thead th {\n",
       "        text-align: right;\n",
       "    }\n",
       "</style>\n",
       "<table border=\"1\" class=\"dataframe\">\n",
       "  <thead>\n",
       "    <tr style=\"text-align: right;\">\n",
       "      <th></th>\n",
       "      <th>departamento_id</th>\n",
       "      <th>departamento_nombre</th>\n",
       "      <th>provincia_id</th>\n",
       "      <th>provincia_nombre</th>\n",
       "      <th>año</th>\n",
       "      <th>semanas_epidemiologicas</th>\n",
       "      <th>evento_nombre</th>\n",
       "      <th>grupo_edad_id</th>\n",
       "      <th>grupo_edad_desc</th>\n",
       "      <th>cantidad_casos</th>\n",
       "    </tr>\n",
       "  </thead>\n",
       "  <tbody>\n",
       "    <tr>\n",
       "      <th>0</th>\n",
       "      <td>1</td>\n",
       "      <td>CABA</td>\n",
       "      <td>2</td>\n",
       "      <td>CABA</td>\n",
       "      <td>2022</td>\n",
       "      <td>8</td>\n",
       "      <td>Dengue</td>\n",
       "      <td>11</td>\n",
       "      <td>De 45 a 65 años</td>\n",
       "      <td>1</td>\n",
       "    </tr>\n",
       "    <tr>\n",
       "      <th>1</th>\n",
       "      <td>1</td>\n",
       "      <td>CABA</td>\n",
       "      <td>2</td>\n",
       "      <td>CABA</td>\n",
       "      <td>2022</td>\n",
       "      <td>9</td>\n",
       "      <td>Dengue</td>\n",
       "      <td>8</td>\n",
       "      <td>De 20 a 24 años</td>\n",
       "      <td>1</td>\n",
       "    </tr>\n",
       "    <tr>\n",
       "      <th>2</th>\n",
       "      <td>1</td>\n",
       "      <td>CABA</td>\n",
       "      <td>2</td>\n",
       "      <td>CABA</td>\n",
       "      <td>2022</td>\n",
       "      <td>16</td>\n",
       "      <td>Dengue</td>\n",
       "      <td>10</td>\n",
       "      <td>De 35 a 44 años</td>\n",
       "      <td>1</td>\n",
       "    </tr>\n",
       "    <tr>\n",
       "      <th>3</th>\n",
       "      <td>1</td>\n",
       "      <td>CABA</td>\n",
       "      <td>2</td>\n",
       "      <td>CABA</td>\n",
       "      <td>2022</td>\n",
       "      <td>49</td>\n",
       "      <td>Dengue</td>\n",
       "      <td>6</td>\n",
       "      <td>De 10 a 14 años</td>\n",
       "      <td>1</td>\n",
       "    </tr>\n",
       "    <tr>\n",
       "      <th>4</th>\n",
       "      <td>1</td>\n",
       "      <td>CABA</td>\n",
       "      <td>2</td>\n",
       "      <td>CABA</td>\n",
       "      <td>2022</td>\n",
       "      <td>48</td>\n",
       "      <td>Dengue</td>\n",
       "      <td>10</td>\n",
       "      <td>De 35 a 44 años</td>\n",
       "      <td>1</td>\n",
       "    </tr>\n",
       "  </tbody>\n",
       "</table>\n",
       "</div>"
      ],
      "text/plain": [
       "   departamento_id departamento_nombre  provincia_id provincia_nombre   año   \n",
       "0                1                CABA             2             CABA  2022  \\\n",
       "1                1                CABA             2             CABA  2022   \n",
       "2                1                CABA             2             CABA  2022   \n",
       "3                1                CABA             2             CABA  2022   \n",
       "4                1                CABA             2             CABA  2022   \n",
       "\n",
       "   semanas_epidemiologicas evento_nombre  grupo_edad_id  grupo_edad_desc   \n",
       "0                        8        Dengue             11  De 45 a 65 años  \\\n",
       "1                        9        Dengue              8  De 20 a 24 años   \n",
       "2                       16        Dengue             10  De 35 a 44 años   \n",
       "3                       49        Dengue              6  De 10 a 14 años   \n",
       "4                       48        Dengue             10  De 35 a 44 años   \n",
       "\n",
       "   cantidad_casos  \n",
       "0               1  \n",
       "1               1  \n",
       "2               1  \n",
       "3               1  \n",
       "4               1  "
      ]
     },
     "execution_count": 76,
     "metadata": {},
     "output_type": "execute_result"
    }
   ],
   "source": [
    "df.head()"
   ]
  },
  {
   "cell_type": "code",
   "execution_count": 77,
   "metadata": {},
   "outputs": [
    {
     "data": {
      "text/html": [
       "<div>\n",
       "<style scoped>\n",
       "    .dataframe tbody tr th:only-of-type {\n",
       "        vertical-align: middle;\n",
       "    }\n",
       "\n",
       "    .dataframe tbody tr th {\n",
       "        vertical-align: top;\n",
       "    }\n",
       "\n",
       "    .dataframe thead th {\n",
       "        text-align: right;\n",
       "    }\n",
       "</style>\n",
       "<table border=\"1\" class=\"dataframe\">\n",
       "  <thead>\n",
       "    <tr style=\"text-align: right;\">\n",
       "      <th></th>\n",
       "      <th>provincia</th>\n",
       "      <th>localidad</th>\n",
       "      <th>cantidad_casos</th>\n",
       "      <th>evento</th>\n",
       "      <th>grupo_etario</th>\n",
       "      <th>semanas_epidemiologicas</th>\n",
       "      <th>año</th>\n",
       "    </tr>\n",
       "  </thead>\n",
       "  <tbody>\n",
       "    <tr>\n",
       "      <th>0</th>\n",
       "      <td>CABA</td>\n",
       "      <td>CABA</td>\n",
       "      <td>1</td>\n",
       "      <td>Dengue</td>\n",
       "      <td>De 45 a 65 años</td>\n",
       "      <td>8</td>\n",
       "      <td>2022</td>\n",
       "    </tr>\n",
       "    <tr>\n",
       "      <th>1</th>\n",
       "      <td>CABA</td>\n",
       "      <td>CABA</td>\n",
       "      <td>1</td>\n",
       "      <td>Dengue</td>\n",
       "      <td>De 20 a 24 años</td>\n",
       "      <td>9</td>\n",
       "      <td>2022</td>\n",
       "    </tr>\n",
       "    <tr>\n",
       "      <th>2</th>\n",
       "      <td>CABA</td>\n",
       "      <td>CABA</td>\n",
       "      <td>1</td>\n",
       "      <td>Dengue</td>\n",
       "      <td>De 35 a 44 años</td>\n",
       "      <td>16</td>\n",
       "      <td>2022</td>\n",
       "    </tr>\n",
       "    <tr>\n",
       "      <th>3</th>\n",
       "      <td>CABA</td>\n",
       "      <td>CABA</td>\n",
       "      <td>1</td>\n",
       "      <td>Dengue</td>\n",
       "      <td>De 10 a 14 años</td>\n",
       "      <td>49</td>\n",
       "      <td>2022</td>\n",
       "    </tr>\n",
       "    <tr>\n",
       "      <th>4</th>\n",
       "      <td>CABA</td>\n",
       "      <td>CABA</td>\n",
       "      <td>1</td>\n",
       "      <td>Dengue</td>\n",
       "      <td>De 35 a 44 años</td>\n",
       "      <td>48</td>\n",
       "      <td>2022</td>\n",
       "    </tr>\n",
       "  </tbody>\n",
       "</table>\n",
       "</div>"
      ],
      "text/plain": [
       "  provincia localidad  cantidad_casos  evento     grupo_etario   \n",
       "0      CABA      CABA               1  Dengue  De 45 a 65 años  \\\n",
       "1      CABA      CABA               1  Dengue  De 20 a 24 años   \n",
       "2      CABA      CABA               1  Dengue  De 35 a 44 años   \n",
       "3      CABA      CABA               1  Dengue  De 10 a 14 años   \n",
       "4      CABA      CABA               1  Dengue  De 35 a 44 años   \n",
       "\n",
       "   semanas_epidemiologicas   año  \n",
       "0                        8  2022  \n",
       "1                        9  2022  \n",
       "2                       16  2022  \n",
       "3                       49  2022  \n",
       "4                       48  2022  "
      ]
     },
     "execution_count": 77,
     "metadata": {},
     "output_type": "execute_result"
    }
   ],
   "source": [
    "#Reordenar columnas\n",
    "df = df[['provincia_nombre','departamento_nombre','cantidad_casos','evento_nombre','grupo_edad_desc','semanas_epidemiologicas','año']]\n",
    "#Renombrar columnas\n",
    "df.rename(columns={'provincia_nombre': 'provincia'}, inplace=True)\n",
    "df.rename(columns={'departamento_nombre': 'localidad'}, inplace=True)\n",
    "df.rename(columns={'evento_nombre': 'evento'}, inplace=True)\n",
    "df.rename(columns={'grupo_edad_desc': 'grupo_etario'}, inplace=True)\n",
    "\n",
    "df.head()"
   ]
  },
  {
   "cell_type": "code",
   "execution_count": 78,
   "metadata": {},
   "outputs": [],
   "source": [
    "# Reemplazar el valor en la columna 'grupo_etario'\n",
    "df['grupo_etario'] = df['grupo_etario'].str.replace('Posneonato (29 hasta 365 dias)', '29 hasta 365 dias')\n"
   ]
  },
  {
   "cell_type": "code",
   "execution_count": 79,
   "metadata": {},
   "outputs": [
    {
     "data": {
      "text/plain": [
       "provincia                  0\n",
       "localidad                  0\n",
       "cantidad_casos             0\n",
       "evento                     0\n",
       "grupo_etario               0\n",
       "semanas_epidemiologicas    0\n",
       "año                        0\n",
       "dtype: int64"
      ]
     },
     "execution_count": 79,
     "metadata": {},
     "output_type": "execute_result"
    }
   ],
   "source": [
    "df.isnull().sum()"
   ]
  },
  {
   "cell_type": "code",
   "execution_count": 80,
   "metadata": {},
   "outputs": [
    {
     "data": {
      "text/plain": [
       "0      False\n",
       "1      False\n",
       "2      False\n",
       "3      False\n",
       "4      False\n",
       "       ...  \n",
       "288    False\n",
       "289    False\n",
       "290    False\n",
       "291    False\n",
       "292    False\n",
       "Length: 293, dtype: bool"
      ]
     },
     "execution_count": 80,
     "metadata": {},
     "output_type": "execute_result"
    }
   ],
   "source": [
    "df.duplicated()"
   ]
  },
  {
   "cell_type": "code",
   "execution_count": 83,
   "metadata": {},
   "outputs": [],
   "source": [
    "df.to_csv('dengue-clean.csv', index=False)"
   ]
  }
 ],
 "metadata": {
  "kernelspec": {
   "display_name": "venv",
   "language": "python",
   "name": "python3"
  },
  "language_info": {
   "codemirror_mode": {
    "name": "ipython",
    "version": 3
   },
   "file_extension": ".py",
   "mimetype": "text/x-python",
   "name": "python",
   "nbconvert_exporter": "python",
   "pygments_lexer": "ipython3",
   "version": "3.10.11"
  },
  "orig_nbformat": 4
 },
 "nbformat": 4,
 "nbformat_minor": 2
}
