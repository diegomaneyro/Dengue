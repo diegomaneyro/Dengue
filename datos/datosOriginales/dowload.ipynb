{
 "cells": [
  {
   "attachments": {},
   "cell_type": "markdown",
   "metadata": {},
   "source": [
    "$$\n",
    "Descargar archivos\n",
    "$$"
   ]
  },
  {
   "cell_type": "code",
   "execution_count": null,
   "metadata": {},
   "outputs": [],
   "source": [
    "#importar librerias necesarias\n",
    "import pandas as pd\n",
    "import requests"
   ]
  },
  {
   "attachments": {},
   "cell_type": "markdown",
   "metadata": {},
   "source": [
    "Descargar los datos desde la web"
   ]
  },
  {
   "cell_type": "code",
   "execution_count": null,
   "metadata": {},
   "outputs": [],
   "source": [
    "\n",
    "def descargar_datos_csv(url, archivo_salida):\n",
    "    \"\"\"\n",
    "    Descarga un archivo CSV desde una URL y lo guarda en un archivo local.\n",
    "\n",
    "    Parámetros:\n",
    "        - url (str): La URL del archivo CSV a descargar.\n",
    "        - archivo_salida (str): El nombre del archivo de salida para guardar los datos descargados.\n",
    "    \"\"\"\n",
    "    # Realizar la solicitud GET al enlace y guardar la respuesta\n",
    "    response = requests.get(url)\n",
    "\n",
    "    # Verificar si la solicitud fue exitosa (código 200)\n",
    "    if response.status_code == 200:\n",
    "        # Guardar los datos en el archivo de salida\n",
    "        with open(archivo_salida, \"wb\") as f:\n",
    "            f.write(response.content)\n",
    "            print(\"Descarga completada.\")\n",
    "    else:\n",
    "        print(\"Error al descargar los datos. Código de estado:\", response.status_code)\n",
    "    return archivo_salida"
   ]
  },
  {
   "attachments": {},
   "cell_type": "markdown",
   "metadata": {},
   "source": [
    "Crear dataframe desde csv descargado"
   ]
  },
  {
   "cell_type": "code",
   "execution_count": null,
   "metadata": {},
   "outputs": [],
   "source": [
    "def cargar_datos_csv(archivo_csv):\n",
    "    \"\"\"\n",
    "    Carga los datos de un archivo CSV en un DataFrame.\n",
    "\n",
    "    Parámetros:\n",
    "        - archivo_csv (str): El nombre del archivo CSV a cargar.\n",
    "\n",
    "    Retorna:\n",
    "        - Un objeto DataFrame que contiene los datos del archivo CSV.\n",
    "    \"\"\"\n",
    "    # Cargar los datos del archivo CSV en un DataFrame\n",
    "    df = pd.read_csv(archivo_csv, sep=';', encoding='latin-1')\n",
    "\n",
    "    return df"
   ]
  },
  {
   "attachments": {},
   "cell_type": "markdown",
   "metadata": {},
   "source": [
    "Guardar dataframe en csv local"
   ]
  },
  {
   "cell_type": "code",
   "execution_count": null,
   "metadata": {},
   "outputs": [],
   "source": [
    "\n",
    "def guardar_datos_como_csv(df, nombre_archivo):\n",
    "    \"\"\"\n",
    "    Guarda los datos de un DataFrame en un archivo CSV.\n",
    "\n",
    "    Parámetros:\n",
    "        - df: El DataFrame que contiene los datos a guardar.\n",
    "        - nombre_archivo: El nombre del archivo CSV de salida.\n",
    "    \"\"\"\n",
    "    df.to_csv(nombre_archivo, index=False)\n",
    "    print(f\"Datos guardados correctamente en el archivo CSV: {nombre_archivo}\")\n"
   ]
  },
  {
   "attachments": {},
   "cell_type": "markdown",
   "metadata": {},
   "source": [
    "Llamar a la funcion que lee desde web y descargar csv con los datos"
   ]
  },
  {
   "cell_type": "code",
   "execution_count": null,
   "metadata": {},
   "outputs": [],
   "source": [
    "url = \"http://datos.salud.gob.ar/dataset/ceaa8e87-297e-4348-84b8-5c643e172500/resource/30d76bcb-b8eb-4bf3-863e-c87d41724647/download/informacion-publica-dengue-zika-nacional-anio-2022.csv\"\n",
    "archivo_salida = \"dengue-zika-2022.csv\"  # Nombre del archivo de salida en formato CSV\n",
    "\n",
    "# Descargar los datos desde web\n",
    "descargar_datos_csv(url, archivo_salida)\n"
   ]
  },
  {
   "attachments": {},
   "cell_type": "markdown",
   "metadata": {},
   "source": [
    "Llamar a la funcion Cragar_datos_csv para crear dataframe"
   ]
  },
  {
   "cell_type": "code",
   "execution_count": null,
   "metadata": {},
   "outputs": [],
   "source": [
    "archivo_salida = \"dengue-zika-2022.csv\"  # Nombre del archivo de salida en formato CSV\n",
    "\n",
    "df = cargar_datos_csv(archivo_salida)\n",
    "df.head()"
   ]
  }
 ],
 "metadata": {
  "kernelspec": {
   "display_name": "venv",
   "language": "python",
   "name": "python3"
  },
  "language_info": {
   "codemirror_mode": {
    "name": "ipython",
    "version": 3
   },
   "file_extension": ".py",
   "mimetype": "text/x-python",
   "name": "python",
   "nbconvert_exporter": "python",
   "pygments_lexer": "ipython3",
   "version": "3.10.11"
  },
  "orig_nbformat": 4
 },
 "nbformat": 4,
 "nbformat_minor": 2
}
